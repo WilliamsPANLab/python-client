{
 "cells": [
  {
   "cell_type": "code",
   "execution_count": 1,
   "metadata": {
    "collapsed": false
   },
   "outputs": [
    {
     "name": "stdout",
     "output_type": "stream",
     "text": [
      "Found an existing token for this instance.\n",
      "The existing token has been refreshed.\n"
     ]
    }
   ],
   "source": [
    "from scitran_client import ScitranClient, el\n",
    "client = ScitranClient('scitran')"
   ]
  },
  {
   "cell_type": "code",
   "execution_count": 2,
   "metadata": {
    "collapsed": true
   },
   "outputs": [],
   "source": [
    "# Sessions belong to projects. We can thus directly the 'label' field of 'projects'.\n",
    "query = el.filter_('projects', el.term('label', 'vwfa'))\n",
    "sessions = client.search_sessions(query)\n",
    "\n",
    "# Files belong to acquisitions. We can filter files by their type (nifti, in this\n",
    "# example), as well as by properties of their acquisitions.\n",
    "query = el.filter_('files', el.term('type', 'nifti'))\n",
    "# Acquisitions belong to sessions. We can make sure the acquisitions correspond\n",
    "# to a session we are interested in and make sure they have a useful type for us.\n",
    "query.update(el.filter_('acquisitions', el.and_(\n",
    "    el.term('measurement', 'anatomy_t1w'),\n",
    "    el.or_(*[el.term('session', session['_id']) for session in sessions]),\n",
    ")))\n",
    "files = client.search_files(query)"
   ]
  },
  {
   "cell_type": "code",
   "execution_count": 3,
   "metadata": {
    "collapsed": false
   },
   "outputs": [
    {
     "name": "stderr",
     "output_type": "stream",
     "text": [
      "100%|██████████| 1/1 [00:00<00:00, 14.25it/s]"
     ]
    },
    {
     "name": "stdout",
     "output_type": "stream",
     "text": [
      "Found local copy of 11353_3_1.nii.gz with correct content.\n"
     ]
    },
    {
     "name": "stderr",
     "output_type": "stream",
     "text": [
      "\n"
     ]
    }
   ],
   "source": [
    "# Let's analyze the first file.\n",
    "example_file = files[0]\n",
    "\n",
    "import os\n",
    "# fsl-bet looks for files in the nifti subdirectory\n",
    "nifti_dir = os.path.join(client.gear_in_dir, 'nifti')\n",
    "if not os.path.exists(nifti_dir):\n",
    "    os.mkdir(nifti_dir)\n",
    "example_file_path = client.download_all_file_search_results([example_file], dest_dir=nifti_dir)[0]"
   ]
  },
  {
   "cell_type": "code",
   "execution_count": 4,
   "metadata": {
    "collapsed": false
   },
   "outputs": [
    {
     "name": "stdout",
     "output_type": "stream",
     "text": [
      "Running container scitran/fsl-bet on with input /Users/carlos/Downloads/input and output /Users/carlos/Downloads/output\n",
      "[scitran/fsl-bet]  Initiated\n",
      "[scitran/fsl-bet]  Running bet2 on 11353_3_1.nii.gz\n",
      "[scitran/fsl-bet]  Wrote: 11353_3_1_brain-extracted.nii.gz\n",
      "[scitran/fsl-bet]  generated /flywheel/v0/output/.metadata.json\n",
      "[scitran/fsl-bet]  Done!\n",
      "Docker container finished with exit code 0\n",
      "Uploading results to collection with id 56e9d386ddea7f915e81f704.\n",
      "Uploaded analysis has ID 57e4767c766755001727084d. Server responded with 200.\n"
     ]
    }
   ],
   "source": [
    "session_id = example_file['_source']['acquisition']['session']\n",
    "\n",
    "# We let fsl-bet find the input file by having an empty string for a command.\n",
    "client.run_gear_and_upload_analysis('testing fsl-bet local run', 'scitran/fsl-bet', session_id, '')"
   ]
  },
  {
   "cell_type": "code",
   "execution_count": 6,
   "metadata": {
    "collapsed": false
   },
   "outputs": [],
   "source": [
    "import nibabel as nib\n",
    "import scipy.misc\n",
    "img = nib.load(example_file_path)\n",
    "scipy.misc.toimage(img.get_data()[100, :, :]).save('before.png')\n",
    "\n",
    "output_file_path = os.path.join(client.gear_out_dir, '11353_3_1_brain-extracted.nii.gz')\n",
    "img = nib.load(output_file_path)\n",
    "scipy.misc.toimage(img.get_data()[100, :, :]).save('after.png')"
   ]
  },
  {
   "cell_type": "markdown",
   "metadata": {},
   "source": [
    "![](before.png) ![](after.png)"
   ]
  },
  {
   "cell_type": "code",
   "execution_count": null,
   "metadata": {
    "collapsed": true
   },
   "outputs": [],
   "source": []
  }
 ],
 "metadata": {
  "kernelspec": {
   "display_name": "Python 2",
   "language": "python",
   "name": "python2"
  },
  "language_info": {
   "codemirror_mode": {
    "name": "ipython",
    "version": 2
   },
   "file_extension": ".py",
   "mimetype": "text/x-python",
   "name": "python",
   "nbconvert_exporter": "python",
   "pygments_lexer": "ipython2",
   "version": "2.7.12"
  }
 },
 "nbformat": 4,
 "nbformat_minor": 1
}
